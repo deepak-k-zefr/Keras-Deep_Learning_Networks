{
 "cells": [
  {
   "cell_type": "code",
   "execution_count": 1,
   "metadata": {
    "collapsed": true
   },
   "outputs": [],
   "source": [
    "##KAGGLE COMPETITION"
   ]
  },
  {
   "cell_type": "code",
   "execution_count": 5,
   "metadata": {},
   "outputs": [],
   "source": [
    "from keras.models import Sequential\n",
    "from keras.layers import Dense, Activation"
   ]
  },
  {
   "cell_type": "code",
   "execution_count": 6,
   "metadata": {},
   "outputs": [
    {
     "name": "stdout",
     "output_type": "stream",
     "text": [
      "{\r\n",
      "    \"floatx\": \"float32\",\r\n",
      "    \"epsilon\": 1e-07,\r\n",
      "    \"backend\": \"tensorflow\",\r\n",
      "    \"image_dim_ordering\": \"th\"\r\n",
      "}"
     ]
    }
   ],
   "source": [
    "# change backend here\n",
    "!cat /Users/deepak/.keras/keras.json"
   ]
  },
  {
   "cell_type": "code",
   "execution_count": 10,
   "metadata": {},
   "outputs": [],
   "source": [
    "from kaggle_data import load_data, preprocess_data, preprocess_labels\n",
    "import numpy as np\n",
    "import matplotlib.pyplot as plt"
   ]
  },
  {
   "cell_type": "code",
   "execution_count": 11,
   "metadata": {},
   "outputs": [],
   "source": [
    "preprocess_data?"
   ]
  },
  {
   "cell_type": "code",
   "execution_count": 12,
   "metadata": {
    "collapsed": true
   },
   "outputs": [],
   "source": [
    "## Read Data"
   ]
  },
  {
   "cell_type": "code",
   "execution_count": 13,
   "metadata": {},
   "outputs": [
    {
     "name": "stdout",
     "output_type": "stream",
     "text": [
      "9 classes\n",
      "93 features\n"
     ]
    }
   ],
   "source": [
    "X_train, labels = load_data('data/kaggle_ottogroup/train.csv', train=True)\n",
    "X_train, scaler = preprocess_data(X_train)\n",
    "Y_train, encoder = preprocess_labels(labels)\n",
    "\n",
    "X_test, ids = load_data('data/kaggle_ottogroup/test.csv', train=False)\n",
    "X_test, _ = preprocess_data(X_test, scaler)\n",
    "\n",
    "nb_classes = Y_train.shape[1]\n",
    "print(nb_classes, 'classes')\n",
    "\n",
    "dims = X_train.shape[1]\n",
    "print(dims, 'features')"
   ]
  },
  {
   "cell_type": "code",
   "execution_count": 14,
   "metadata": {
    "collapsed": true
   },
   "outputs": [],
   "source": [
    "## Try dufferent architectures"
   ]
  },
  {
   "cell_type": "code",
   "execution_count": 21,
   "metadata": {
    "collapsed": true
   },
   "outputs": [],
   "source": [
    "## Single Layer NN"
   ]
  },
  {
   "cell_type": "code",
   "execution_count": 16,
   "metadata": {},
   "outputs": [
    {
     "name": "stdout",
     "output_type": "stream",
     "text": [
      "93 dims\n",
      "Building model...\n",
      "9 classes\n"
     ]
    },
    {
     "data": {
      "text/plain": [
       "<keras.callbacks.History at 0x118b98240>"
      ]
     },
     "execution_count": 16,
     "metadata": {},
     "output_type": "execute_result"
    }
   ],
   "source": [
    "dims = X_train.shape[1]\n",
    "print(dims, 'dims')\n",
    "print(\"Building model...\")\n",
    "\n",
    "nb_classes = Y_train.shape[1]\n",
    "print(nb_classes, 'classes')\n",
    "\n",
    "model = Sequential()\n",
    "model.add(Dense(nb_classes, input_shape=(dims,), activation='sigmoid'))\n",
    "model.add(Activation('softmax'))\n",
    "\n",
    "model.compile(optimizer='sgd', loss='categorical_crossentropy')\n",
    "model.fit(X_train, Y_train,verbose=0)"
   ]
  },
  {
   "cell_type": "code",
   "execution_count": 17,
   "metadata": {},
   "outputs": [
    {
     "name": "stdout",
     "output_type": "stream",
     "text": [
      "_________________________________________________________________\n",
      "Layer (type)                 Output Shape              Param #   \n",
      "=================================================================\n",
      "dense_2 (Dense)              (None, 9)                 846       \n",
      "_________________________________________________________________\n",
      "activation_2 (Activation)    (None, 9)                 0         \n",
      "=================================================================\n",
      "Total params: 846\n",
      "Trainable params: 846\n",
      "Non-trainable params: 0\n",
      "_________________________________________________________________\n"
     ]
    }
   ],
   "source": [
    "model.summary()"
   ]
  },
  {
   "cell_type": "code",
   "execution_count": 18,
   "metadata": {
    "collapsed": true
   },
   "outputs": [],
   "source": [
    "## cross validation."
   ]
  },
  {
   "cell_type": "code",
   "execution_count": 19,
   "metadata": {
    "collapsed": true
   },
   "outputs": [],
   "source": [
    "from sklearn.model_selection import train_test_split\n",
    "from keras.callbacks import EarlyStopping, ModelCheckpoint"
   ]
  },
  {
   "cell_type": "code",
   "execution_count": 20,
   "metadata": {},
   "outputs": [
    {
     "name": "stdout",
     "output_type": "stream",
     "text": [
      "Train on 52596 samples, validate on 9282 samples\n",
      "Epoch 1/50\n",
      "52596/52596 [==============================] - 1s 20us/step - loss: 1.6543 - val_loss: 1.6513\n",
      "Epoch 2/50\n",
      "52596/52596 [==============================] - 1s 15us/step - loss: 1.6528 - val_loss: 1.6499\n",
      "Epoch 3/50\n",
      "52596/52596 [==============================] - 1s 14us/step - loss: 1.6514 - val_loss: 1.6485\n",
      "Epoch 4/50\n",
      "52596/52596 [==============================] - 1s 14us/step - loss: 1.6500 - val_loss: 1.6472\n",
      "Epoch 5/50\n",
      "52596/52596 [==============================] - 1s 14us/step - loss: 1.6487 - val_loss: 1.6460\n",
      "Epoch 6/50\n",
      "52596/52596 [==============================] - 1s 14us/step - loss: 1.6474 - val_loss: 1.6447\n",
      "Epoch 7/50\n",
      "52596/52596 [==============================] - 1s 18us/step - loss: 1.6461 - val_loss: 1.6435\n",
      "Epoch 8/50\n",
      "52596/52596 [==============================] - 1s 20us/step - loss: 1.6449 - val_loss: 1.6424\n",
      "Epoch 9/50\n",
      "52596/52596 [==============================] - 1s 19us/step - loss: 1.6437 - val_loss: 1.6413\n",
      "Epoch 10/50\n",
      "52596/52596 [==============================] - 1s 17us/step - loss: 1.6426 - val_loss: 1.6402\n",
      "Epoch 11/50\n",
      "52596/52596 [==============================] - 1s 17us/step - loss: 1.6414 - val_loss: 1.6391\n",
      "Epoch 12/50\n",
      "52596/52596 [==============================] - 1s 14us/step - loss: 1.6404 - val_loss: 1.6381\n",
      "Epoch 13/50\n",
      "52596/52596 [==============================] - 1s 16us/step - loss: 1.6393 - val_loss: 1.6371\n",
      "Epoch 14/50\n",
      "52596/52596 [==============================] - 1s 15us/step - loss: 1.6383 - val_loss: 1.6362\n",
      "Epoch 15/50\n",
      "52596/52596 [==============================] - 1s 14us/step - loss: 1.6373 - val_loss: 1.6352\n",
      "Epoch 16/50\n",
      "52596/52596 [==============================] - 1s 14us/step - loss: 1.6363 - val_loss: 1.6343\n",
      "Epoch 17/50\n",
      "52596/52596 [==============================] - 1s 15us/step - loss: 1.6354 - val_loss: 1.6334\n",
      "Epoch 18/50\n",
      "52596/52596 [==============================] - 1s 15us/step - loss: 1.6344 - val_loss: 1.6325\n",
      "Epoch 19/50\n",
      "52596/52596 [==============================] - 1s 15us/step - loss: 1.6335 - val_loss: 1.6317\n",
      "Epoch 20/50\n",
      "52596/52596 [==============================] - 1s 14us/step - loss: 1.6327 - val_loss: 1.6309\n",
      "Epoch 21/50\n",
      "52596/52596 [==============================] - 1s 15us/step - loss: 1.6318 - val_loss: 1.6301\n",
      "Epoch 22/50\n",
      "52596/52596 [==============================] - 1s 15us/step - loss: 1.6310 - val_loss: 1.6293\n",
      "Epoch 23/50\n",
      "52596/52596 [==============================] - 1s 16us/step - loss: 1.6302 - val_loss: 1.6285\n",
      "Epoch 24/50\n",
      "52596/52596 [==============================] - 1s 18us/step - loss: 1.6294 - val_loss: 1.6278\n",
      "Epoch 25/50\n",
      "52596/52596 [==============================] - 1s 16us/step - loss: 1.6286 - val_loss: 1.6271\n",
      "Epoch 26/50\n",
      "52596/52596 [==============================] - 1s 20us/step - loss: 1.6279 - val_loss: 1.6264\n",
      "Epoch 27/50\n",
      "52596/52596 [==============================] - 1s 18us/step - loss: 1.6271 - val_loss: 1.6257\n",
      "Epoch 28/50\n",
      "52596/52596 [==============================] - 1s 20us/step - loss: 1.6264 - val_loss: 1.6250\n",
      "Epoch 29/50\n",
      "52596/52596 [==============================] - 1s 15us/step - loss: 1.6257 - val_loss: 1.6243\n",
      "Epoch 30/50\n",
      "52596/52596 [==============================] - 1s 15us/step - loss: 1.6250 - val_loss: 1.6237\n",
      "Epoch 31/50\n",
      "52596/52596 [==============================] - 1s 15us/step - loss: 1.6244 - val_loss: 1.6230\n",
      "Epoch 32/50\n",
      "52596/52596 [==============================] - 1s 17us/step - loss: 1.6237 - val_loss: 1.6224\n",
      "Epoch 33/50\n",
      "52596/52596 [==============================] - 1s 18us/step - loss: 1.6231 - val_loss: 1.6218\n",
      "Epoch 34/50\n",
      "52596/52596 [==============================] - 1s 15us/step - loss: 1.6225 - val_loss: 1.6212\n",
      "Epoch 35/50\n",
      "52596/52596 [==============================] - 1s 14us/step - loss: 1.6218 - val_loss: 1.6207\n",
      "Epoch 36/50\n",
      "52596/52596 [==============================] - 1s 15us/step - loss: 1.6212 - val_loss: 1.6201\n",
      "Epoch 37/50\n",
      "52596/52596 [==============================] - 1s 16us/step - loss: 1.6207 - val_loss: 1.6195\n",
      "Epoch 38/50\n",
      "52596/52596 [==============================] - 1s 16us/step - loss: 1.6201 - val_loss: 1.6190\n",
      "Epoch 39/50\n",
      "52596/52596 [==============================] - 1s 15us/step - loss: 1.6195 - val_loss: 1.6185\n",
      "Epoch 40/50\n",
      "52596/52596 [==============================] - 1s 16us/step - loss: 1.6190 - val_loss: 1.6180\n",
      "Epoch 41/50\n",
      "52596/52596 [==============================] - 1s 14us/step - loss: 1.6184 - val_loss: 1.6175\n",
      "Epoch 42/50\n",
      "52596/52596 [==============================] - 1s 16us/step - loss: 1.6179 - val_loss: 1.6170\n",
      "Epoch 43/50\n",
      "52596/52596 [==============================] - 1s 17us/step - loss: 1.6174 - val_loss: 1.6165\n",
      "Epoch 44/50\n",
      "52596/52596 [==============================] - 1s 18us/step - loss: 1.6169 - val_loss: 1.6160\n",
      "Epoch 45/50\n",
      "52596/52596 [==============================] - 1s 16us/step - loss: 1.6164 - val_loss: 1.6155\n",
      "Epoch 46/50\n",
      "52596/52596 [==============================] - 1s 15us/step - loss: 1.6159 - val_loss: 1.6151\n",
      "Epoch 47/50\n",
      "52596/52596 [==============================] - 1s 17us/step - loss: 1.6154 - val_loss: 1.6146\n",
      "Epoch 48/50\n",
      "52596/52596 [==============================] - 1s 15us/step - loss: 1.6149 - val_loss: 1.6142\n",
      "Epoch 49/50\n",
      "52596/52596 [==============================] - 1s 16us/step - loss: 1.6145 - val_loss: 1.6137\n",
      "Epoch 50/50\n",
      "52596/52596 [==============================] - 1s 16us/step - loss: 1.6140 - val_loss: 1.6133\n"
     ]
    },
    {
     "data": {
      "text/plain": [
       "<keras.callbacks.History at 0x119074a58>"
      ]
     },
     "execution_count": 20,
     "metadata": {},
     "output_type": "execute_result"
    }
   ],
   "source": [
    "X_train, X_val, Y_train, Y_val = train_test_split(X_train, Y_train, test_size=0.15, random_state=42)\n",
    "\n",
    "fBestModel = 'best_model.h5' \n",
    "early_stop = EarlyStopping(monitor='val_loss', patience=2, verbose=1) \n",
    "best_model = ModelCheckpoint(fBestModel, verbose=0, save_best_only=True)\n",
    "\n",
    "model.fit(X_train, Y_train, validation_data = (X_val, Y_val), epochs=50, \n",
    "          batch_size=128, verbose=True, callbacks=[best_model, early_stop]) "
   ]
  },
  {
   "cell_type": "code",
   "execution_count": 22,
   "metadata": {
    "collapsed": true
   },
   "outputs": [],
   "source": [
    "# Multi-Layer Fully Connected Networks"
   ]
  },
  {
   "cell_type": "code",
   "execution_count": 23,
   "metadata": {},
   "outputs": [
    {
     "name": "stdout",
     "output_type": "stream",
     "text": [
      "_________________________________________________________________\n",
      "Layer (type)                 Output Shape              Param #   \n",
      "=================================================================\n",
      "dense_3 (Dense)              (None, 100)               9400      \n",
      "_________________________________________________________________\n",
      "dense_4 (Dense)              (None, 9)                 909       \n",
      "_________________________________________________________________\n",
      "activation_3 (Activation)    (None, 9)                 0         \n",
      "=================================================================\n",
      "Total params: 10,309\n",
      "Trainable params: 10,309\n",
      "Non-trainable params: 0\n",
      "_________________________________________________________________\n"
     ]
    }
   ],
   "source": [
    "model = Sequential()\n",
    "model.add(Dense(100, input_shape=(dims,)))\n",
    "model.add(Dense(nb_classes))\n",
    "model.add(Activation('softmax'))\n",
    "model.compile(optimizer='sgd', loss='categorical_crossentropy')\n",
    "model.summary()"
   ]
  },
  {
   "cell_type": "code",
   "execution_count": 24,
   "metadata": {},
   "outputs": [
    {
     "name": "stdout",
     "output_type": "stream",
     "text": [
      "Train on 44706 samples, validate on 7890 samples\n",
      "Epoch 1/50\n",
      "44706/44706 [==============================] - 1s 24us/step - loss: 1.2677 - val_loss: 0.9151\n",
      "Epoch 2/50\n",
      "44706/44706 [==============================] - 1s 20us/step - loss: 0.8483 - val_loss: 0.8034\n",
      "Epoch 3/50\n",
      "44706/44706 [==============================] - 1s 18us/step - loss: 0.7751 - val_loss: 0.7592\n",
      "Epoch 4/50\n",
      "44706/44706 [==============================] - 1s 18us/step - loss: 0.7400 - val_loss: 0.7352\n",
      "Epoch 5/50\n",
      "44706/44706 [==============================] - 1s 18us/step - loss: 0.7185 - val_loss: 0.7199\n",
      "Epoch 6/50\n",
      "44706/44706 [==============================] - 1s 18us/step - loss: 0.7038 - val_loss: 0.7094\n",
      "Epoch 7/50\n",
      "44706/44706 [==============================] - 1s 18us/step - loss: 0.6932 - val_loss: 0.7007\n",
      "Epoch 8/50\n",
      "44706/44706 [==============================] - 1s 19us/step - loss: 0.6850 - val_loss: 0.6948\n",
      "Epoch 9/50\n",
      "44706/44706 [==============================] - 1s 24us/step - loss: 0.6786 - val_loss: 0.6898\n",
      "Epoch 10/50\n",
      "44706/44706 [==============================] - 1s 20us/step - loss: 0.6732 - val_loss: 0.6865\n",
      "Epoch 11/50\n",
      "44706/44706 [==============================] - 1s 20us/step - loss: 0.6688 - val_loss: 0.6833\n",
      "Epoch 12/50\n",
      "44706/44706 [==============================] - 1s 19us/step - loss: 0.6651 - val_loss: 0.6807\n",
      "Epoch 13/50\n",
      "44706/44706 [==============================] - 1s 22us/step - loss: 0.6620 - val_loss: 0.6780\n",
      "Epoch 14/50\n",
      "44706/44706 [==============================] - 1s 23us/step - loss: 0.6593 - val_loss: 0.6764\n",
      "Epoch 15/50\n",
      "44706/44706 [==============================] - 1s 24us/step - loss: 0.6567 - val_loss: 0.6744\n",
      "Epoch 16/50\n",
      "44706/44706 [==============================] - 1s 25us/step - loss: 0.6546 - val_loss: 0.6731\n",
      "Epoch 17/50\n",
      "44706/44706 [==============================] - 1s 22us/step - loss: 0.6527 - val_loss: 0.6711\n",
      "Epoch 18/50\n",
      "44706/44706 [==============================] - 1s 24us/step - loss: 0.6510 - val_loss: 0.6702\n",
      "Epoch 19/50\n",
      "44706/44706 [==============================] - 1s 21us/step - loss: 0.6494 - val_loss: 0.6689\n",
      "Epoch 20/50\n",
      "44706/44706 [==============================] - 1s 23us/step - loss: 0.6480 - val_loss: 0.6683\n",
      "Epoch 21/50\n",
      "44706/44706 [==============================] - 1s 29us/step - loss: 0.6466 - val_loss: 0.6681\n",
      "Epoch 22/50\n",
      "44706/44706 [==============================] - 1s 25us/step - loss: 0.6456 - val_loss: 0.6660\n",
      "Epoch 23/50\n",
      "44706/44706 [==============================] - 1s 19us/step - loss: 0.6444 - val_loss: 0.6656\n",
      "Epoch 24/50\n",
      "44706/44706 [==============================] - 1s 20us/step - loss: 0.6434 - val_loss: 0.6648\n",
      "Epoch 25/50\n",
      "44706/44706 [==============================] - 1s 26us/step - loss: 0.6424 - val_loss: 0.6647\n",
      "Epoch 26/50\n",
      "44706/44706 [==============================] - 1s 25us/step - loss: 0.6416 - val_loss: 0.6634\n",
      "Epoch 27/50\n",
      "44706/44706 [==============================] - 1s 22us/step - loss: 0.6410 - val_loss: 0.6626\n",
      "Epoch 28/50\n",
      "44706/44706 [==============================] - 1s 23us/step - loss: 0.6402 - val_loss: 0.6626\n",
      "Epoch 29/50\n",
      "44706/44706 [==============================] - 1s 25us/step - loss: 0.6393 - val_loss: 0.6615\n",
      "Epoch 30/50\n",
      "44706/44706 [==============================] - 1s 25us/step - loss: 0.6389 - val_loss: 0.6608\n",
      "Epoch 31/50\n",
      "44706/44706 [==============================] - 1s 23us/step - loss: 0.6381 - val_loss: 0.6609\n",
      "Epoch 32/50\n",
      "44706/44706 [==============================] - 1s 22us/step - loss: 0.6376 - val_loss: 0.6603\n",
      "Epoch 33/50\n",
      "44706/44706 [==============================] - 1s 17us/step - loss: 0.6371 - val_loss: 0.6599\n",
      "Epoch 34/50\n",
      "44706/44706 [==============================] - 1s 20us/step - loss: 0.6364 - val_loss: 0.6598\n",
      "Epoch 35/50\n",
      "44706/44706 [==============================] - 1s 20us/step - loss: 0.6360 - val_loss: 0.6591\n",
      "Epoch 36/50\n",
      "44706/44706 [==============================] - 1s 24us/step - loss: 0.6356 - val_loss: 0.6588\n",
      "Epoch 37/50\n",
      "44706/44706 [==============================] - 1s 18us/step - loss: 0.6351 - val_loss: 0.6582\n",
      "Epoch 38/50\n",
      "44706/44706 [==============================] - 1s 18us/step - loss: 0.6348 - val_loss: 0.6588\n",
      "Epoch 39/50\n",
      "44706/44706 [==============================] - 1s 19us/step - loss: 0.6341 - val_loss: 0.6580\n",
      "Epoch 40/50\n",
      "44706/44706 [==============================] - 1s 23us/step - loss: 0.6339 - val_loss: 0.6578\n",
      "Epoch 41/50\n",
      "44706/44706 [==============================] - 1s 26us/step - loss: 0.6335 - val_loss: 0.6573\n",
      "Epoch 42/50\n",
      "44706/44706 [==============================] - 1s 26us/step - loss: 0.6332 - val_loss: 0.6575\n",
      "Epoch 43/50\n",
      "44706/44706 [==============================] - 1s 24us/step - loss: 0.6327 - val_loss: 0.6567\n",
      "Epoch 44/50\n",
      "44706/44706 [==============================] - 1s 28us/step - loss: 0.6326 - val_loss: 0.6566\n",
      "Epoch 45/50\n",
      "44706/44706 [==============================] - 1s 31us/step - loss: 0.6321 - val_loss: 0.6574\n",
      "Epoch 46/50\n",
      "44706/44706 [==============================] - 2s 34us/step - loss: 0.6320 - val_loss: 0.6564\n",
      "Epoch 47/50\n",
      "44706/44706 [==============================] - 1s 21us/step - loss: 0.6316 - val_loss: 0.6565\n",
      "Epoch 48/50\n",
      "44706/44706 [==============================] - 1s 21us/step - loss: 0.6313 - val_loss: 0.6576\n",
      "Epoch 00048: early stopping\n"
     ]
    },
    {
     "data": {
      "text/plain": [
       "<keras.callbacks.History at 0x11902b208>"
      ]
     },
     "execution_count": 24,
     "metadata": {},
     "output_type": "execute_result"
    }
   ],
   "source": [
    "X_train, X_val, Y_train, Y_val = train_test_split(X_train, Y_train, test_size=0.15, random_state=42)\n",
    "\n",
    "fBestModel = 'best_model.h5' \n",
    "early_stop = EarlyStopping(monitor='val_loss', patience=2, verbose=1) \n",
    "best_model = ModelCheckpoint(fBestModel, verbose=0, save_best_only=True)\n",
    "\n",
    "model.fit(X_train, Y_train, validation_data = (X_val, Y_val), epochs=50, \n",
    "          batch_size=128, verbose=True, callbacks=[best_model, early_stop]) "
   ]
  },
  {
   "cell_type": "code",
   "execution_count": null,
   "metadata": {
    "collapsed": true
   },
   "outputs": [],
   "source": []
  }
 ],
 "metadata": {
  "kernelspec": {
   "display_name": "Python [conda root]",
   "language": "python",
   "name": "conda-root-py"
  },
  "language_info": {
   "codemirror_mode": {
    "name": "ipython",
    "version": 3
   },
   "file_extension": ".py",
   "mimetype": "text/x-python",
   "name": "python",
   "nbconvert_exporter": "python",
   "pygments_lexer": "ipython3",
   "version": "3.6.1"
  }
 },
 "nbformat": 4,
 "nbformat_minor": 2
}
