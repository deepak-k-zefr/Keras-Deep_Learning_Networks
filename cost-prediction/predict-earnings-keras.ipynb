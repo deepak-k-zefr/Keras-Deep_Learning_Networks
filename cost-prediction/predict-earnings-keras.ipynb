{
 "cells": [
  {
   "cell_type": "code",
   "execution_count": 69,
   "metadata": {
    "collapsed": true
   },
   "outputs": [],
   "source": [
    "# Train a model and make prediction on earnings\n",
    "# Video-game dataset, y =Total earnings\n",
    "# Data is scaled using min max scaler\n",
    "# The mean squared error (MSE) for the test data set is: 0.0003009536094032228\n",
    "# Earnings Prediction for Proposed Product - $260129.9568627"
   ]
  },
  {
   "cell_type": "code",
   "execution_count": 70,
   "metadata": {},
   "outputs": [],
   "source": [
    "import pandas as pd\n",
    "from keras.models import Sequential\n",
    "from keras.layers import *\n",
    "from sklearn.preprocessing import MinMaxScaler\n",
    "import keras\n",
    "import tensorflow as tf"
   ]
  },
  {
   "cell_type": "code",
   "execution_count": 71,
   "metadata": {
    "collapsed": true
   },
   "outputs": [],
   "source": [
    "# Load training data set from CSV file\n",
    "training_data_df =pd.read_csv(\"sales_data_training.csv\")\n",
    "\n",
    "# Load testing data set from CSV file\n",
    "test_data_df =pd.read_csv(\"sales_data_training.csv\")\n",
    "\n",
    "# Data needs to be scaled to a small range like 0 to 1 for the neural\n",
    "# network to work well.\n",
    "scaler =MinMaxScaler(feature_range=(0,1))"
   ]
  },
  {
   "cell_type": "code",
   "execution_count": 72,
   "metadata": {
    "collapsed": true
   },
   "outputs": [],
   "source": [
    "# Scale both the training inputs and outputs\n",
    "training_data_df = scaler.fit_transform(training_data_df)\n",
    "test_data_df = scaler.transform(test_data_df)"
   ]
  },
  {
   "cell_type": "code",
   "execution_count": 73,
   "metadata": {
    "collapsed": true
   },
   "outputs": [],
   "source": [
    "cols=[\"critic_rating\",\"is_action\",\"is_exclusive_to_us\",\"is_portable\",\"is_role_playing\",\"is_sequel\",\"is_sports\",\"suitable_for_kids\",\"total_earnings\",\"unit_price\"]"
   ]
  },
  {
   "cell_type": "code",
   "execution_count": 74,
   "metadata": {
    "collapsed": true
   },
   "outputs": [],
   "source": [
    "training_data_df=pd.DataFrame(training_data_df,columns=cols)\n",
    "test_data_df=pd.DataFrame(test_data_df,columns=cols)"
   ]
  },
  {
   "cell_type": "code",
   "execution_count": 75,
   "metadata": {
    "collapsed": true
   },
   "outputs": [],
   "source": [
    "X = pd.DataFrame(training_data_df).drop('total_earnings', axis=1).values\n",
    "Y = pd.DataFrame(training_data_df)[['total_earnings']].values"
   ]
  },
  {
   "cell_type": "code",
   "execution_count": 76,
   "metadata": {
    "collapsed": true
   },
   "outputs": [],
   "source": [
    "# Define the model\n",
    "model = Sequential()\n",
    "model.add(Dense(50, input_dim=9, activation='relu'))\n",
    "model.add(Dense(100, activation='relu'))\n",
    "model.add(Dense(50, activation='relu'))\n",
    "model.add(Dense(1, activation='linear'))\n",
    "model.compile(loss='mean_squared_error', optimizer='adam')"
   ]
  },
  {
   "cell_type": "code",
   "execution_count": 77,
   "metadata": {},
   "outputs": [],
   "source": [
    "# Create a TensorBoard logger\n",
    "\n",
    "RUN_NAME = \"run 2 with 5 nodes\"\n",
    "\n",
    "logger = keras.callbacks.TensorBoard(\n",
    "    log_dir='logs/{}'.format(RUN_NAME),\n",
    "#     histogram_freq=5,\n",
    "#     write_graph=True\n",
    ")"
   ]
  },
  {
   "cell_type": "code",
   "execution_count": 88,
   "metadata": {},
   "outputs": [
    {
     "data": {
      "text/plain": [
       "<keras.callbacks.History at 0x1223cf5f8>"
      ]
     },
     "execution_count": 88,
     "metadata": {},
     "output_type": "execute_result"
    }
   ],
   "source": [
    "# Train the model\n",
    "model.fit(\n",
    "    X,\n",
    "    Y,\n",
    "    epochs=50,\n",
    "    shuffle=True,\n",
    "    verbose=0,\n",
    "    callbacks=[logger]\n",
    "\n",
    ")"
   ]
  },
  {
   "cell_type": "code",
   "execution_count": 79,
   "metadata": {},
   "outputs": [
    {
     "name": "stdout",
     "output_type": "stream",
     "text": [
      "The mean squared error (MSE) for the test data set is: 2.88548173266463e-05\n"
     ]
    }
   ],
   "source": [
    "X_test = test_data_df.drop('total_earnings', axis=1).values\n",
    "Y_test = test_data_df[['total_earnings']].values\n",
    "\n",
    "test_error_rate = model.evaluate(X_test, Y_test, verbose=0)\n",
    "print(\"The mean squared error (MSE) for the test data set is: {}\".format(test_error_rate))\n"
   ]
  },
  {
   "cell_type": "code",
   "execution_count": 89,
   "metadata": {},
   "outputs": [
    {
     "name": "stdout",
     "output_type": "stream",
     "text": [
      "INFO:tensorflow:No assets to save.\n",
      "INFO:tensorflow:No assets to write.\n",
      "INFO:tensorflow:SavedModel written to: b'exported_model-4/saved_model.pb'\n",
      "Epoch 1/50\n",
      " - 0s - loss: 3.5297e-05\n",
      "Epoch 2/50\n",
      " - 0s - loss: 2.9114e-05\n",
      "Epoch 3/50\n",
      " - 0s - loss: 2.9368e-05\n",
      "Epoch 4/50\n",
      " - 0s - loss: 3.0728e-05\n",
      "Epoch 5/50\n",
      " - 0s - loss: 2.8416e-05\n",
      "Epoch 6/50\n",
      " - 0s - loss: 2.3313e-05\n",
      "Epoch 7/50\n",
      " - 0s - loss: 1.9854e-05\n",
      "Epoch 8/50\n",
      " - 0s - loss: 1.7641e-05\n",
      "Epoch 9/50\n",
      " - 0s - loss: 2.0547e-05\n",
      "Epoch 10/50\n",
      " - 0s - loss: 4.2710e-05\n",
      "Epoch 11/50\n",
      " - 0s - loss: 2.8156e-05\n",
      "Epoch 12/50\n",
      " - 0s - loss: 1.1101e-04\n",
      "Epoch 13/50\n",
      " - 0s - loss: 6.3853e-05\n",
      "Epoch 14/50\n",
      " - 0s - loss: 3.4259e-05\n",
      "Epoch 15/50\n",
      " - 0s - loss: 4.0078e-05\n",
      "Epoch 16/50\n",
      " - 0s - loss: 2.5690e-05\n",
      "Epoch 17/50\n",
      " - 0s - loss: 2.1629e-05\n",
      "Epoch 18/50\n",
      " - 0s - loss: 2.5077e-05\n",
      "Epoch 19/50\n",
      " - 0s - loss: 2.7972e-05\n",
      "Epoch 20/50\n",
      " - 0s - loss: 3.2559e-05\n",
      "Epoch 21/50\n",
      " - 0s - loss: 4.5247e-05\n",
      "Epoch 22/50\n",
      " - 0s - loss: 2.6827e-05\n",
      "Epoch 23/50\n",
      " - 0s - loss: 2.5690e-05\n",
      "Epoch 24/50\n",
      " - 0s - loss: 1.9536e-05\n",
      "Epoch 25/50\n",
      " - 0s - loss: 2.6902e-05\n",
      "Epoch 26/50\n",
      " - 0s - loss: 3.3630e-05\n",
      "Epoch 27/50\n",
      " - 0s - loss: 2.2183e-05\n",
      "Epoch 28/50\n",
      " - 0s - loss: 2.6096e-05\n",
      "Epoch 29/50\n",
      " - 0s - loss: 4.8718e-05\n",
      "Epoch 30/50\n",
      " - 0s - loss: 3.8553e-05\n",
      "Epoch 31/50\n",
      " - 0s - loss: 2.1277e-05\n",
      "Epoch 32/50\n",
      " - 0s - loss: 2.4830e-05\n",
      "Epoch 33/50\n",
      " - 0s - loss: 3.4553e-05\n",
      "Epoch 34/50\n",
      " - 0s - loss: 2.9173e-05\n",
      "Epoch 35/50\n",
      " - 0s - loss: 2.1855e-05\n",
      "Epoch 36/50\n",
      " - 0s - loss: 1.8094e-05\n",
      "Epoch 37/50\n",
      " - 0s - loss: 2.4345e-05\n",
      "Epoch 38/50\n",
      " - 0s - loss: 4.0425e-05\n",
      "Epoch 39/50\n",
      " - 0s - loss: 3.1030e-05\n",
      "Epoch 40/50\n",
      " - 0s - loss: 3.6810e-05\n",
      "Epoch 41/50\n",
      " - 0s - loss: 4.6857e-05\n",
      "Epoch 42/50\n",
      " - 0s - loss: 9.7436e-05\n",
      "Epoch 43/50\n",
      " - 0s - loss: 3.2016e-05\n",
      "Epoch 44/50\n",
      " - 0s - loss: 5.4940e-05\n",
      "Epoch 45/50\n",
      " - 0s - loss: 4.0972e-05\n",
      "Epoch 46/50\n",
      " - 0s - loss: 3.7920e-05\n",
      "Epoch 47/50\n",
      " - 0s - loss: 5.3192e-05\n",
      "Epoch 48/50\n",
      " - 0s - loss: 2.2989e-05\n",
      "Epoch 49/50\n",
      " - 0s - loss: 2.7403e-05\n",
      "Epoch 50/50\n",
      " - 0s - loss: 4.9684e-05\n"
     ]
    },
    {
     "data": {
      "text/plain": [
       "<keras.callbacks.History at 0x123e4f588>"
      ]
     },
     "execution_count": 89,
     "metadata": {},
     "output_type": "execute_result"
    }
   ],
   "source": [
    "\n",
    "\n",
    "model_builder = tf.saved_model.builder.SavedModelBuilder(\"exported_model-4\")\n",
    "\n",
    "inputs = {\n",
    "    'input': tf.saved_model.utils.build_tensor_info(model.input)\n",
    "}\n",
    "outputs = {\n",
    "    'earnings': tf.saved_model.utils.build_tensor_info(model.output)\n",
    "}\n",
    "\n",
    "signature_def = tf.saved_model.signature_def_utils.build_signature_def(\n",
    "    inputs=inputs,\n",
    "    outputs=outputs,\n",
    "    method_name=tf.saved_model.signature_constants.PREDICT_METHOD_NAME\n",
    ")\n",
    "\n",
    "model_builder.add_meta_graph_and_variables(\n",
    "    K.get_session(),\n",
    "    tags=[tf.saved_model.tag_constants.SERVING],\n",
    "    signature_def_map={\n",
    "        tf.saved_model.signature_constants.DEFAULT_SERVING_SIGNATURE_DEF_KEY: signature_def\n",
    "    }\n",
    ")\n",
    "\n",
    "model_builder.save()\n",
    "# Train the model\n",
    "model.fit(\n",
    "    X,\n",
    "    Y,\n",
    "    epochs=50,\n",
    "    shuffle=True,\n",
    "    verbose=2,\n",
    "    callbacks=[logger]\n",
    ")"
   ]
  },
  {
   "cell_type": "code",
   "execution_count": 84,
   "metadata": {},
   "outputs": [],
   "source": [
    "model?"
   ]
  },
  {
   "cell_type": "markdown",
   "metadata": {},
   "source": [
    "## Make a Single Prediction"
   ]
  },
  {
   "cell_type": "code",
   "execution_count": null,
   "metadata": {
    "collapsed": true
   },
   "outputs": [],
   "source": [
    "# Load the data we make to use to make a prediction\n",
    "X = pd.read_csv(\"proposed_new_product.csv\").values\n",
    "\n",
    "# Make a prediction with the neural network\n",
    "prediction = model.predict(X)\n",
    "\n",
    "# Grab just the first element of the first prediction (since that's the only have one)\n",
    "prediction = prediction[0][0]\n",
    "# Re-scale the data from the 0-to-1 range back to dollars\n",
    "# These constants are from when the data was originally scaled down to the 0-to-1 range\n",
    "prediction = prediction + 0.1159\n",
    "prediction = prediction / 0.0000036968\n",
    "\n",
    "print(\"Earnings Prediction for Proposed Product - ${}\".format(prediction))\n"
   ]
  }
 ],
 "metadata": {
  "kernelspec": {
   "display_name": "Python [conda root]",
   "language": "python",
   "name": "conda-root-py"
  },
  "language_info": {
   "codemirror_mode": {
    "name": "ipython",
    "version": 3
   },
   "file_extension": ".py",
   "mimetype": "text/x-python",
   "name": "python",
   "nbconvert_exporter": "python",
   "pygments_lexer": "ipython3",
   "version": "3.6.1"
  }
 },
 "nbformat": 4,
 "nbformat_minor": 2
}
